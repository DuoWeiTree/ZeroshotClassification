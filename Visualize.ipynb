{
 "cells": [
  {
   "cell_type": "code",
   "execution_count": 6,
   "id": "36cbd1a0-8201-442e-988c-8e69c2abcf8b",
   "metadata": {
    "scrolled": true
   },
   "outputs": [
    {
     "data": {
      "application/vnd.plotly.v1+json": {
       "config": {
        "plotlyServerURL": "https://plot.ly"
       },
       "data": [
        {
         "customdata": [
          [
           "label: 常规尺寸<br>label_id: 11<br>最多的 尺寸: 常规尺寸<br>随机 10 个 尺寸: 尺寸为小号，胸围15-18英寸。, 超小号尺寸, 常规尺寸, 常规尺寸, 常规尺寸, 常规尺寸, 中号胸围(18~21.75\"), 常规尺寸, 常规尺寸, 特小号尺寸<br>数量: 618",
           11
          ],
          [
           "label: XXS<br>label_id: 9<br>最多的 尺寸: Small<br>随机 10 个 尺寸: S (胸部: 12.5\"-14.5\"), S (Chest: 14.5 - 16\"), 小号（1件套）, XS (Chest: 13 - 14.5\"), 超小号（胸围13-14.5英寸）, L (Chest: 20 - 25\"), XL (Chest: 18.5\"-21\"), XXS, X-Large Chest (20.5-28\"), Medium size suitable for a range of dog sizes.<br>数量: 510",
           9
          ],
          [
           "label: XXL号<br>label_id: 5<br>最多的 尺寸: 中号<br>随机 10 个 尺寸: 超大号, 加大号, L号，胸围20-25英寸。, 中号，适合胸围17-21英寸的宠物, 中号, X-Large, S号（胸围：15-18英寸）, 特大号, 特小号（1件套）, 特大号<br>数量: 293",
           5
          ],
          [
           "label: M<br>label_id: 0<br>最多的 尺寸: Medium<br>随机 10 个 尺寸: M (Chest: 14.5\"-16.5\"), Medium, Medium, Regular, M, M (Chest: 17 - 21\"), Medium, Medium, Medium, M (Chest: 16 - 18\")<br>数量: 120",
           0
          ],
          [
           "label: L<br>label_id: 6<br>最多的 尺寸: Large<br>随机 10 个 尺寸: Large, Large, L码, L, Large, L (胸部: 18 - 20.5\"), Large, Large, Large, L size harness and leash set.<br>数量: 71",
           6
          ],
          [
           "label: XS<br>label_id: 7<br>最多的 尺寸: XS<br>随机 10 个 尺寸: XS, XS, XS, XS, XS, XS, XS, XS, XS, XS<br>数量: 42",
           7
          ],
          [
           "label: XL<br>label_id: 8<br>最多的 尺寸: XL<br>随机 10 个 尺寸: XL, XL, XL, XL, XL, XL, XL, XL, XL, XL<br>数量: 40",
           8
          ],
          [
           "label: XXXS<br>label_id: 10<br>最多的 尺寸: XXXS<br>随机 10 个 尺寸: XXXS (Chest: 10 - 11.5\" * Fit Cats), XXXS, XXXS（胸围10.5-13英寸）, XXXS（胸围：10 - 11.5英寸）, XXXS, XXXS规格，胸围10-11.5英寸, XXXS (Chest: 10.5 - 13\" * Fit Cats), XXXS（颈围：10.2\"-11.4\"；胸围：11.4\"-12.6\"）, XS码, XXXS号，适合胸围11-12英寸<br>数量: 35",
           10
          ],
          [
           "label: S<br>label_id: 1<br>最多的 尺寸: S<br>随机 10 个 尺寸: S, Pack of 1, S, S, S, S, S, S, S, S<br>数量: 34",
           1
          ],
          [
           "label: Harness size range<br>label_id: 4<br>最多的 尺寸: Harness size range.<br>随机 10 个 尺寸: M: 30-50 lbs (Chest:24-28\",Neck:17-19\"), Harness size range., L: 45-80 lbs (Chest:27-37\",Neck:19-25\"), M: 30-50 lbs (Chest:24-28\",Neck:17-19\"), L: 45-80 lbs (Chest:27-37\",Neck:19-25\"), S size, L (Chest: 20 - 25\") size harness., M size harness with chest size 14.5\"-16.5\"., L - Chest: 20 - 25 inches, Harness size range.<br>数量: 24",
           4
          ]
         ],
         "hovertemplate": "%{customdata[0]}",
         "legendgroup": "",
         "marker": {
          "color": {
           "bdata": "CwkFAAYHCAoBBA==",
           "dtype": "i1"
          },
          "coloraxis": "coloraxis",
          "pattern": {
           "shape": ""
          }
         },
         "name": "",
         "orientation": "v",
         "showlegend": false,
         "text": {
          "bdata": "AAAAAABQg0AAAAAAAOB/QAAAAAAAUHJAAAAAAAAAXkAAAAAAAMBRQAAAAAAAAEVAAAAAAAAAREAAAAAAAIBBQAAAAAAAAEFAAAAAAAAAOEA=",
          "dtype": "f8"
         },
         "textposition": "auto",
         "type": "bar",
         "x": [
          "常规尺寸",
          "XXS",
          "XXL号",
          "M",
          "L",
          "XS",
          "XL",
          "XXXS",
          "S",
          "Harness size range"
         ],
         "xaxis": "x",
         "y": {
          "bdata": "agL+ASUBeABHACoAKAAjACIAGAA=",
          "dtype": "i2"
         },
         "yaxis": "y"
        }
       ],
       "layout": {
        "barmode": "relative",
        "coloraxis": {
         "colorbar": {
          "title": {
           "text": "label_id"
          }
         },
         "colorscale": [
          [
           0,
           "#0d0887"
          ],
          [
           0.1111111111111111,
           "#46039f"
          ],
          [
           0.2222222222222222,
           "#7201a8"
          ],
          [
           0.3333333333333333,
           "#9c179e"
          ],
          [
           0.4444444444444444,
           "#bd3786"
          ],
          [
           0.5555555555555556,
           "#d8576b"
          ],
          [
           0.6666666666666666,
           "#ed7953"
          ],
          [
           0.7777777777777778,
           "#fb9f3a"
          ],
          [
           0.8888888888888888,
           "#fdca26"
          ],
          [
           1,
           "#f0f921"
          ]
         ]
        },
        "legend": {
         "tracegroupgap": 0
        },
        "margin": {
         "t": 60
        },
        "template": {
         "data": {
          "bar": [
           {
            "error_x": {
             "color": "#2a3f5f"
            },
            "error_y": {
             "color": "#2a3f5f"
            },
            "marker": {
             "line": {
              "color": "#E5ECF6",
              "width": 0.5
             },
             "pattern": {
              "fillmode": "overlay",
              "size": 10,
              "solidity": 0.2
             }
            },
            "type": "bar"
           }
          ],
          "barpolar": [
           {
            "marker": {
             "line": {
              "color": "#E5ECF6",
              "width": 0.5
             },
             "pattern": {
              "fillmode": "overlay",
              "size": 10,
              "solidity": 0.2
             }
            },
            "type": "barpolar"
           }
          ],
          "carpet": [
           {
            "aaxis": {
             "endlinecolor": "#2a3f5f",
             "gridcolor": "white",
             "linecolor": "white",
             "minorgridcolor": "white",
             "startlinecolor": "#2a3f5f"
            },
            "baxis": {
             "endlinecolor": "#2a3f5f",
             "gridcolor": "white",
             "linecolor": "white",
             "minorgridcolor": "white",
             "startlinecolor": "#2a3f5f"
            },
            "type": "carpet"
           }
          ],
          "choropleth": [
           {
            "colorbar": {
             "outlinewidth": 0,
             "ticks": ""
            },
            "type": "choropleth"
           }
          ],
          "contour": [
           {
            "colorbar": {
             "outlinewidth": 0,
             "ticks": ""
            },
            "colorscale": [
             [
              0,
              "#0d0887"
             ],
             [
              0.1111111111111111,
              "#46039f"
             ],
             [
              0.2222222222222222,
              "#7201a8"
             ],
             [
              0.3333333333333333,
              "#9c179e"
             ],
             [
              0.4444444444444444,
              "#bd3786"
             ],
             [
              0.5555555555555556,
              "#d8576b"
             ],
             [
              0.6666666666666666,
              "#ed7953"
             ],
             [
              0.7777777777777778,
              "#fb9f3a"
             ],
             [
              0.8888888888888888,
              "#fdca26"
             ],
             [
              1,
              "#f0f921"
             ]
            ],
            "type": "contour"
           }
          ],
          "contourcarpet": [
           {
            "colorbar": {
             "outlinewidth": 0,
             "ticks": ""
            },
            "type": "contourcarpet"
           }
          ],
          "heatmap": [
           {
            "colorbar": {
             "outlinewidth": 0,
             "ticks": ""
            },
            "colorscale": [
             [
              0,
              "#0d0887"
             ],
             [
              0.1111111111111111,
              "#46039f"
             ],
             [
              0.2222222222222222,
              "#7201a8"
             ],
             [
              0.3333333333333333,
              "#9c179e"
             ],
             [
              0.4444444444444444,
              "#bd3786"
             ],
             [
              0.5555555555555556,
              "#d8576b"
             ],
             [
              0.6666666666666666,
              "#ed7953"
             ],
             [
              0.7777777777777778,
              "#fb9f3a"
             ],
             [
              0.8888888888888888,
              "#fdca26"
             ],
             [
              1,
              "#f0f921"
             ]
            ],
            "type": "heatmap"
           }
          ],
          "histogram": [
           {
            "marker": {
             "pattern": {
              "fillmode": "overlay",
              "size": 10,
              "solidity": 0.2
             }
            },
            "type": "histogram"
           }
          ],
          "histogram2d": [
           {
            "colorbar": {
             "outlinewidth": 0,
             "ticks": ""
            },
            "colorscale": [
             [
              0,
              "#0d0887"
             ],
             [
              0.1111111111111111,
              "#46039f"
             ],
             [
              0.2222222222222222,
              "#7201a8"
             ],
             [
              0.3333333333333333,
              "#9c179e"
             ],
             [
              0.4444444444444444,
              "#bd3786"
             ],
             [
              0.5555555555555556,
              "#d8576b"
             ],
             [
              0.6666666666666666,
              "#ed7953"
             ],
             [
              0.7777777777777778,
              "#fb9f3a"
             ],
             [
              0.8888888888888888,
              "#fdca26"
             ],
             [
              1,
              "#f0f921"
             ]
            ],
            "type": "histogram2d"
           }
          ],
          "histogram2dcontour": [
           {
            "colorbar": {
             "outlinewidth": 0,
             "ticks": ""
            },
            "colorscale": [
             [
              0,
              "#0d0887"
             ],
             [
              0.1111111111111111,
              "#46039f"
             ],
             [
              0.2222222222222222,
              "#7201a8"
             ],
             [
              0.3333333333333333,
              "#9c179e"
             ],
             [
              0.4444444444444444,
              "#bd3786"
             ],
             [
              0.5555555555555556,
              "#d8576b"
             ],
             [
              0.6666666666666666,
              "#ed7953"
             ],
             [
              0.7777777777777778,
              "#fb9f3a"
             ],
             [
              0.8888888888888888,
              "#fdca26"
             ],
             [
              1,
              "#f0f921"
             ]
            ],
            "type": "histogram2dcontour"
           }
          ],
          "mesh3d": [
           {
            "colorbar": {
             "outlinewidth": 0,
             "ticks": ""
            },
            "type": "mesh3d"
           }
          ],
          "parcoords": [
           {
            "line": {
             "colorbar": {
              "outlinewidth": 0,
              "ticks": ""
             }
            },
            "type": "parcoords"
           }
          ],
          "pie": [
           {
            "automargin": true,
            "type": "pie"
           }
          ],
          "scatter": [
           {
            "fillpattern": {
             "fillmode": "overlay",
             "size": 10,
             "solidity": 0.2
            },
            "type": "scatter"
           }
          ],
          "scatter3d": [
           {
            "line": {
             "colorbar": {
              "outlinewidth": 0,
              "ticks": ""
             }
            },
            "marker": {
             "colorbar": {
              "outlinewidth": 0,
              "ticks": ""
             }
            },
            "type": "scatter3d"
           }
          ],
          "scattercarpet": [
           {
            "marker": {
             "colorbar": {
              "outlinewidth": 0,
              "ticks": ""
             }
            },
            "type": "scattercarpet"
           }
          ],
          "scattergeo": [
           {
            "marker": {
             "colorbar": {
              "outlinewidth": 0,
              "ticks": ""
             }
            },
            "type": "scattergeo"
           }
          ],
          "scattergl": [
           {
            "marker": {
             "colorbar": {
              "outlinewidth": 0,
              "ticks": ""
             }
            },
            "type": "scattergl"
           }
          ],
          "scattermap": [
           {
            "marker": {
             "colorbar": {
              "outlinewidth": 0,
              "ticks": ""
             }
            },
            "type": "scattermap"
           }
          ],
          "scattermapbox": [
           {
            "marker": {
             "colorbar": {
              "outlinewidth": 0,
              "ticks": ""
             }
            },
            "type": "scattermapbox"
           }
          ],
          "scatterpolar": [
           {
            "marker": {
             "colorbar": {
              "outlinewidth": 0,
              "ticks": ""
             }
            },
            "type": "scatterpolar"
           }
          ],
          "scatterpolargl": [
           {
            "marker": {
             "colorbar": {
              "outlinewidth": 0,
              "ticks": ""
             }
            },
            "type": "scatterpolargl"
           }
          ],
          "scatterternary": [
           {
            "marker": {
             "colorbar": {
              "outlinewidth": 0,
              "ticks": ""
             }
            },
            "type": "scatterternary"
           }
          ],
          "surface": [
           {
            "colorbar": {
             "outlinewidth": 0,
             "ticks": ""
            },
            "colorscale": [
             [
              0,
              "#0d0887"
             ],
             [
              0.1111111111111111,
              "#46039f"
             ],
             [
              0.2222222222222222,
              "#7201a8"
             ],
             [
              0.3333333333333333,
              "#9c179e"
             ],
             [
              0.4444444444444444,
              "#bd3786"
             ],
             [
              0.5555555555555556,
              "#d8576b"
             ],
             [
              0.6666666666666666,
              "#ed7953"
             ],
             [
              0.7777777777777778,
              "#fb9f3a"
             ],
             [
              0.8888888888888888,
              "#fdca26"
             ],
             [
              1,
              "#f0f921"
             ]
            ],
            "type": "surface"
           }
          ],
          "table": [
           {
            "cells": {
             "fill": {
              "color": "#EBF0F8"
             },
             "line": {
              "color": "white"
             }
            },
            "header": {
             "fill": {
              "color": "#C8D4E3"
             },
             "line": {
              "color": "white"
             }
            },
            "type": "table"
           }
          ]
         },
         "layout": {
          "annotationdefaults": {
           "arrowcolor": "#2a3f5f",
           "arrowhead": 0,
           "arrowwidth": 1
          },
          "autotypenumbers": "strict",
          "coloraxis": {
           "colorbar": {
            "outlinewidth": 0,
            "ticks": ""
           }
          },
          "colorscale": {
           "diverging": [
            [
             0,
             "#8e0152"
            ],
            [
             0.1,
             "#c51b7d"
            ],
            [
             0.2,
             "#de77ae"
            ],
            [
             0.3,
             "#f1b6da"
            ],
            [
             0.4,
             "#fde0ef"
            ],
            [
             0.5,
             "#f7f7f7"
            ],
            [
             0.6,
             "#e6f5d0"
            ],
            [
             0.7,
             "#b8e186"
            ],
            [
             0.8,
             "#7fbc41"
            ],
            [
             0.9,
             "#4d9221"
            ],
            [
             1,
             "#276419"
            ]
           ],
           "sequential": [
            [
             0,
             "#0d0887"
            ],
            [
             0.1111111111111111,
             "#46039f"
            ],
            [
             0.2222222222222222,
             "#7201a8"
            ],
            [
             0.3333333333333333,
             "#9c179e"
            ],
            [
             0.4444444444444444,
             "#bd3786"
            ],
            [
             0.5555555555555556,
             "#d8576b"
            ],
            [
             0.6666666666666666,
             "#ed7953"
            ],
            [
             0.7777777777777778,
             "#fb9f3a"
            ],
            [
             0.8888888888888888,
             "#fdca26"
            ],
            [
             1,
             "#f0f921"
            ]
           ],
           "sequentialminus": [
            [
             0,
             "#0d0887"
            ],
            [
             0.1111111111111111,
             "#46039f"
            ],
            [
             0.2222222222222222,
             "#7201a8"
            ],
            [
             0.3333333333333333,
             "#9c179e"
            ],
            [
             0.4444444444444444,
             "#bd3786"
            ],
            [
             0.5555555555555556,
             "#d8576b"
            ],
            [
             0.6666666666666666,
             "#ed7953"
            ],
            [
             0.7777777777777778,
             "#fb9f3a"
            ],
            [
             0.8888888888888888,
             "#fdca26"
            ],
            [
             1,
             "#f0f921"
            ]
           ]
          },
          "colorway": [
           "#636efa",
           "#EF553B",
           "#00cc96",
           "#ab63fa",
           "#FFA15A",
           "#19d3f3",
           "#FF6692",
           "#B6E880",
           "#FF97FF",
           "#FECB52"
          ],
          "font": {
           "color": "#2a3f5f"
          },
          "geo": {
           "bgcolor": "white",
           "lakecolor": "white",
           "landcolor": "#E5ECF6",
           "showlakes": true,
           "showland": true,
           "subunitcolor": "white"
          },
          "hoverlabel": {
           "align": "left"
          },
          "hovermode": "closest",
          "mapbox": {
           "style": "light"
          },
          "paper_bgcolor": "white",
          "plot_bgcolor": "#E5ECF6",
          "polar": {
           "angularaxis": {
            "gridcolor": "white",
            "linecolor": "white",
            "ticks": ""
           },
           "bgcolor": "#E5ECF6",
           "radialaxis": {
            "gridcolor": "white",
            "linecolor": "white",
            "ticks": ""
           }
          },
          "scene": {
           "xaxis": {
            "backgroundcolor": "#E5ECF6",
            "gridcolor": "white",
            "gridwidth": 2,
            "linecolor": "white",
            "showbackground": true,
            "ticks": "",
            "zerolinecolor": "white"
           },
           "yaxis": {
            "backgroundcolor": "#E5ECF6",
            "gridcolor": "white",
            "gridwidth": 2,
            "linecolor": "white",
            "showbackground": true,
            "ticks": "",
            "zerolinecolor": "white"
           },
           "zaxis": {
            "backgroundcolor": "#E5ECF6",
            "gridcolor": "white",
            "gridwidth": 2,
            "linecolor": "white",
            "showbackground": true,
            "ticks": "",
            "zerolinecolor": "white"
           }
          },
          "shapedefaults": {
           "line": {
            "color": "#2a3f5f"
           }
          },
          "ternary": {
           "aaxis": {
            "gridcolor": "white",
            "linecolor": "white",
            "ticks": ""
           },
           "baxis": {
            "gridcolor": "white",
            "linecolor": "white",
            "ticks": ""
           },
           "bgcolor": "#E5ECF6",
           "caxis": {
            "gridcolor": "white",
            "linecolor": "white",
            "ticks": ""
           }
          },
          "title": {
           "x": 0.05
          },
          "xaxis": {
           "automargin": true,
           "gridcolor": "white",
           "linecolor": "white",
           "ticks": "",
           "title": {
            "standoff": 15
           },
           "zerolinecolor": "white",
           "zerolinewidth": 2
          },
          "yaxis": {
           "automargin": true,
           "gridcolor": "white",
           "linecolor": "white",
           "ticks": "",
           "title": {
            "standoff": 15
           },
           "zerolinecolor": "white",
           "zerolinewidth": 2
          }
         }
        },
        "xaxis": {
         "anchor": "y",
         "domain": [
          0,
          1
         ],
         "title": {
          "text": "label"
         }
        },
        "yaxis": {
         "anchor": "x",
         "domain": [
          0,
          1
         ],
         "title": {
          "text": "count"
         }
        }
       }
      },
      "image/png": "[encoded data removed]"
     },
     "metadata": {},
     "output_type": "display_data"
    }
   ],
   "source": [
    "import pandas as pd\n",
    "import plotly.express as px\n",
    "from collections import Counter\n",
    "import random\n",
    "\n",
    "# 读取 CSV\n",
    "# file_path = './labeled/needs-1755761585.6115475.csv'\n",
    "# file_path = \"./labeled/summarize-1755767478.1369212.csv\"\n",
    "# file_path = \"./labeled/颜色-1755768275.464413.csv\"\n",
    "# file_path = \"./labeled/尺寸-1755768834.9017708.csv\"\n",
    "#file_path = \"./labeled/summarize-1755832235.5945387.csv\"\n",
    "file_path = \"./labeled/尺寸-1755854548.3942108.csv\"\n",
    "\n",
    "\n",
    "column_name = \"尺寸\"\n",
    "df = pd.read_csv(file_path)\n",
    "\n",
    "# 移除 needs 为空的行，方便后续处理\n",
    "df[column_name] = df[column_name].fillna('')  # 空字符串替代 NaN\n",
    "\n",
    "# 按 label_id 分组\n",
    "grouped = df.groupby(['label_id', 'label'])\n",
    "\n",
    "# 构造柱状图数据\n",
    "data = []\n",
    "for (label_id, label), group in grouped:\n",
    "\tcount = len(group)\n",
    "\tneeds_list = group[column_name].tolist()\n",
    "\t# 统计最多的 needs\n",
    "\tmost_common_needs = Counter(needs_list).most_common(1)\n",
    "\tmost_common_str = most_common_needs[0][0] if most_common_needs else ''\n",
    "\t# 随机选取 10 个 needs\n",
    "\tsample_needs = random.sample(needs_list, min(10, len(needs_list)))\n",
    "\tsample_str = \", \".join(sample_needs)\n",
    "\thover_text = f\"label: {label}<br>label_id: {label_id}<br>最多的 {column_name}: {most_common_str}<br>随机 10 个 {column_name}: {sample_str}<br>数量: {count}\"\n",
    "\tdata.append({\n",
    "\t\t'label': label,\n",
    "\t\t'label_id': label_id,\n",
    "\t\t'count': count,\n",
    "\t\t'hover': hover_text\n",
    "\t})\n",
    "\n",
    "plot_df = pd.DataFrame(data)\n",
    "\n",
    "# 按 count 从大到小排序\n",
    "plot_df = plot_df.sort_values('count', ascending=False)\n",
    "\n",
    "# 绘图\n",
    "fig = px.bar(\n",
    "\tplot_df,\n",
    "\tx='label',\n",
    "\ty='count',\n",
    "\tcolor='label_id',\n",
    "\ttext='count',\n",
    "\thover_data={'hover': True, 'label': False, 'label_id': False, 'count': False},\n",
    "\tcustom_data=['hover']\n",
    ")\n",
    "\n",
    "# 自定义悬停信息\n",
    "fig.update_traces(hovertemplate='%{customdata[0]}')\n",
    "\n",
    "# 输出 HTML\n",
    "fig.write_html('cache.html')\n",
    "\n",
    "# 展示\n",
    "fig.show()\n",
    "\n",
    "# 输出 HTML\n",
    "fig.write_html(f'{column_name}-emb-zero-shot.html')"
   ]
  }
 ],
 "metadata": {
  "kernelspec": {
   "display_name": "Python 3 (ipykernel)",
   "language": "python",
   "name": "python3"
  },
  "language_info": {
   "codemirror_mode": {
    "name": "ipython",
    "version": 3
   },
   "file_extension": ".py",
   "mimetype": "text/x-python",
   "name": "python",
   "nbconvert_exporter": "python",
   "pygments_lexer": "ipython3",
   "version": "3.11.13"
  }
 },
 "nbformat": 4,
 "nbformat_minor": 5
}
